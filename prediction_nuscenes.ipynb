{
 "cells": [
  {
   "cell_type": "code",
   "execution_count": 1,
   "id": "initial_id",
   "metadata": {
    "collapsed": true,
    "ExecuteTime": {
     "end_time": "2024-04-29T13:23:05.612925Z",
     "start_time": "2024-04-29T13:22:30.171092Z"
    }
   },
   "outputs": [
    {
     "name": "stdout",
     "output_type": "stream",
     "text": [
      "======\n",
      "Loading NuScenes tables for version v1.0-trainval...\n",
      "Loading nuScenes-lidarseg...\n",
      "32 category,\n",
      "8 attribute,\n",
      "4 visibility,\n",
      "64386 instance,\n",
      "12 sensor,\n",
      "10200 calibrated_sensor,\n",
      "2631083 ego_pose,\n",
      "68 log,\n",
      "850 scene,\n",
      "34149 sample,\n",
      "2631083 sample_data,\n",
      "1166187 sample_annotation,\n",
      "4 map,\n",
      "34149 lidarseg,\n",
      "Done loading in 29.314 seconds.\n",
      "======\n",
      "Reverse indexing ...\n",
      "Done reverse indexing in 5.3 seconds.\n",
      "======\n"
     ]
    }
   ],
   "source": [
    "from nuscenes.prediction import PredictHelper\n",
    "from nuscenes import NuScenes\n",
    "DATAROOT = \"data/nuscenes\"\n",
    "nusc = NuScenes(\"v1.0-trainval\", dataroot=DATAROOT)"
   ]
  },
  {
   "cell_type": "code",
   "outputs": [
    {
     "data": {
      "text/plain": "['bc38961ca0ac4b14ab90e547ba79fbb6_39586f9d59004284a7114a68825e8eec',\n 'bc38961ca0ac4b14ab90e547ba79fbb6_356d81f38dd9473ba590f39e266f54e5',\n 'bc38961ca0ac4b14ab90e547ba79fbb6_e0845f5322254dafadbbed75aaa07969',\n 'bc38961ca0ac4b14ab90e547ba79fbb6_c923fe08b2ff4e27975d2bf30934383b',\n 'bc38961ca0ac4b14ab90e547ba79fbb6_f1e3d9d08f044c439ce86a2d6fcca57b']"
     },
     "execution_count": 2,
     "metadata": {},
     "output_type": "execute_result"
    }
   ],
   "source": [
    "from nuscenes.eval.prediction.splits import get_prediction_challenge_split\n",
    "mini_train = get_prediction_challenge_split(\"mini_train\", dataroot=DATAROOT)\n",
    "mini_train[:5]"
   ],
   "metadata": {
    "collapsed": false,
    "ExecuteTime": {
     "end_time": "2024-04-29T13:23:20.693436Z",
     "start_time": "2024-04-29T13:23:20.670419Z"
    }
   },
   "id": "64e421c396946a1a",
   "execution_count": 2
  },
  {
   "cell_type": "code",
   "outputs": [],
   "source": [
    "from nuscenes.prediction import PredictHelper\n",
    "helper = PredictHelper(nusc)\n",
    "# a class that provides methods for querying past and future data for an agent. "
   ],
   "metadata": {
    "collapsed": false,
    "ExecuteTime": {
     "end_time": "2024-04-29T13:23:43.166231Z",
     "start_time": "2024-04-29T13:23:42.580159Z"
    }
   },
   "id": "5478ff9a8ed163ac",
   "execution_count": 3
  },
  {
   "cell_type": "markdown",
   "source": [
    "to get the data for an agent at a particular time point:"
   ],
   "metadata": {
    "collapsed": false
   },
   "id": "34808cbf72650dde"
  },
  {
   "cell_type": "code",
   "outputs": [
    {
     "data": {
      "text/plain": "{'token': 'a286c9633fa34da5b978758f348996b0',\n 'sample_token': '39586f9d59004284a7114a68825e8eec',\n 'instance_token': 'bc38961ca0ac4b14ab90e547ba79fbb6',\n 'visibility_token': '4',\n 'attribute_tokens': ['cb5118da1ab342aa947717dc53544259'],\n 'translation': [392.945, 1148.426, 0.766],\n 'size': [1.708, 4.01, 1.631],\n 'rotation': [-0.5443682117180475, 0.0, 0.0, 0.8388463804957943],\n 'prev': '16140fbf143d4e26a4a7613cbd3aa0e8',\n 'next': 'b41e15b89fd44709b439de95dd723617',\n 'num_lidar_pts': 0,\n 'num_radar_pts': 0,\n 'category_name': 'vehicle.car'}"
     },
     "execution_count": 4,
     "metadata": {},
     "output_type": "execute_result"
    }
   ],
   "source": [
    "instance_token, sample_token = mini_train[0].split(\"_\")\n",
    "annotation = helper.get_sample_annotation(instance_token, sample_token)\n",
    "annotation"
   ],
   "metadata": {
    "collapsed": false,
    "ExecuteTime": {
     "end_time": "2024-04-29T13:27:03.153099Z",
     "start_time": "2024-04-29T13:27:03.149677Z"
    }
   },
   "id": "e1da061fabee4672",
   "execution_count": 4
  },
  {
   "cell_type": "markdown",
   "source": [
    "to get the future/past of an agent, use `helper.get_future_for_agent/helper.get_past_for_agent` methods. the param `in_agent_frame` converts coords from global frame to agent's local frame if set to true."
   ],
   "metadata": {
    "collapsed": false
   },
   "id": "635620bdbc860a05"
  },
  {
   "cell_type": "code",
   "outputs": [
    {
     "data": {
      "text/plain": "array([[ 0.01075063,  0.2434942 ],\n       [-0.20463666,  1.20515386],\n       [-0.20398583,  2.57851309],\n       [-0.25867757,  4.50313379],\n       [-0.31359088,  6.67620961],\n       [-0.31404147,  9.67727022]])"
     },
     "execution_count": 8,
     "metadata": {},
     "output_type": "execute_result"
    }
   ],
   "source": [
    "future_xy_local = helper.get_future_for_agent(instance_token, sample_token, seconds=3, in_agent_frame=True)\n",
    "future_xy_local"
   ],
   "metadata": {
    "collapsed": false,
    "ExecuteTime": {
     "end_time": "2024-04-29T13:33:43.260719Z",
     "start_time": "2024-04-29T13:33:43.257064Z"
    }
   },
   "id": "871b36461141fc0f",
   "execution_count": 8
  },
  {
   "cell_type": "code",
   "outputs": [
    {
     "data": {
      "text/plain": "array([[ 392.836, 1148.208],\n       [ 392.641, 1147.242],\n       [ 392.081, 1145.988],\n       [ 391.347, 1144.208],\n       [ 390.512, 1142.201],\n       [ 389.29 , 1139.46 ],\n       [ 388.168, 1136.675],\n       [ 386.878, 1133.783],\n       [ 385.638, 1131.14 ],\n       [ 384.005, 1128.317],\n       [ 382.188, 1125.617],\n       [ 380.066, 1123.072],\n       [ 377.248, 1120.613],\n       [ 374.393, 1118.767],\n       [ 371.364, 1117.297],\n       [ 368.254, 1116.32 ],\n       [ 365.092, 1116.247],\n       [ 361.627, 1116.685],\n       [ 358.196, 1117.398],\n       [ 354.824, 1118.349],\n       [ 350.381, 1119.451],\n       [ 346.001, 1120.849]])"
     },
     "execution_count": 10,
     "metadata": {},
     "output_type": "execute_result"
    }
   ],
   "source": [
    "future_xy_global = helper.get_future_for_agent(instance_token, sample_token, seconds=11, in_agent_frame=False)\n",
    "future_xy_global"
   ],
   "metadata": {
    "collapsed": false,
    "ExecuteTime": {
     "end_time": "2024-04-29T13:34:04.684356Z",
     "start_time": "2024-04-29T13:34:04.681563Z"
    }
   },
   "id": "a9576a3a4c5824db",
   "execution_count": 10
  },
  {
   "cell_type": "markdown",
   "source": [
    "to get the original entire annotation, pass `just_xy=False`. Note that in this case, coords are in global frame."
   ],
   "metadata": {
    "collapsed": false
   },
   "id": "cebc3885d28a6a44"
  },
  {
   "cell_type": "code",
   "outputs": [
    {
     "data": {
      "text/plain": "[{'token': 'b41e15b89fd44709b439de95dd723617',\n  'sample_token': '356d81f38dd9473ba590f39e266f54e5',\n  'instance_token': 'bc38961ca0ac4b14ab90e547ba79fbb6',\n  'visibility_token': '4',\n  'attribute_tokens': ['cb5118da1ab342aa947717dc53544259'],\n  'translation': [392.836, 1148.208, 0.791],\n  'size': [1.708, 4.01, 1.631],\n  'rotation': [-0.5443682117180475, 0.0, 0.0, 0.8388463804957943],\n  'prev': 'a286c9633fa34da5b978758f348996b0',\n  'next': 'b2b43ef63f5242b2a4c0b794e673782d',\n  'num_lidar_pts': 10,\n  'num_radar_pts': 2,\n  'category_name': 'vehicle.car'},\n {'token': 'b2b43ef63f5242b2a4c0b794e673782d',\n  'sample_token': 'e0845f5322254dafadbbed75aaa07969',\n  'instance_token': 'bc38961ca0ac4b14ab90e547ba79fbb6',\n  'visibility_token': '4',\n  'attribute_tokens': ['cb5118da1ab342aa947717dc53544259'],\n  'translation': [392.641, 1147.242, 0.816],\n  'size': [1.708, 4.01, 1.631],\n  'rotation': [-0.5443682117180475, 0.0, 0.0, 0.8388463804957943],\n  'prev': 'b41e15b89fd44709b439de95dd723617',\n  'next': '7bcf4bc87bf143588230254034eada12',\n  'num_lidar_pts': 13,\n  'num_radar_pts': 3,\n  'category_name': 'vehicle.car'},\n {'token': '7bcf4bc87bf143588230254034eada12',\n  'sample_token': 'c923fe08b2ff4e27975d2bf30934383b',\n  'instance_token': 'bc38961ca0ac4b14ab90e547ba79fbb6',\n  'visibility_token': '4',\n  'attribute_tokens': ['cb5118da1ab342aa947717dc53544259'],\n  'translation': [392.081, 1145.988, 0.841],\n  'size': [1.708, 4.01, 1.631],\n  'rotation': [-0.5443682117180475, 0.0, 0.0, 0.8388463804957943],\n  'prev': 'b2b43ef63f5242b2a4c0b794e673782d',\n  'next': '247a25c59f914adabee9460bd8307196',\n  'num_lidar_pts': 18,\n  'num_radar_pts': 3,\n  'category_name': 'vehicle.car'},\n {'token': '247a25c59f914adabee9460bd8307196',\n  'sample_token': 'f1e3d9d08f044c439ce86a2d6fcca57b',\n  'instance_token': 'bc38961ca0ac4b14ab90e547ba79fbb6',\n  'visibility_token': '4',\n  'attribute_tokens': ['cb5118da1ab342aa947717dc53544259'],\n  'translation': [391.347, 1144.208, 0.841],\n  'size': [1.708, 4.01, 1.631],\n  'rotation': [-0.5443682117180475, 0.0, 0.0, 0.8388463804957943],\n  'prev': '7bcf4bc87bf143588230254034eada12',\n  'next': 'e25b9e7019814d53876ff2697df7a2de',\n  'num_lidar_pts': 20,\n  'num_radar_pts': 4,\n  'category_name': 'vehicle.car'},\n {'token': 'e25b9e7019814d53876ff2697df7a2de',\n  'sample_token': '4f545737bf3347fbbc9af60b0be9a963',\n  'instance_token': 'bc38961ca0ac4b14ab90e547ba79fbb6',\n  'visibility_token': '4',\n  'attribute_tokens': ['cb5118da1ab342aa947717dc53544259'],\n  'translation': [390.512, 1142.201, 0.891],\n  'size': [1.708, 4.01, 1.631],\n  'rotation': [-0.5443682117180475, 0.0, 0.0, 0.8388463804957943],\n  'prev': '247a25c59f914adabee9460bd8307196',\n  'next': 'fe33c018573e4abda3ff8de0566ee800',\n  'num_lidar_pts': 24,\n  'num_radar_pts': 2,\n  'category_name': 'vehicle.car'},\n {'token': 'fe33c018573e4abda3ff8de0566ee800',\n  'sample_token': '7626dde27d604ac28a0240bdd54eba7a',\n  'instance_token': 'bc38961ca0ac4b14ab90e547ba79fbb6',\n  'visibility_token': '4',\n  'attribute_tokens': ['cb5118da1ab342aa947717dc53544259'],\n  'translation': [389.29, 1139.46, 0.941],\n  'size': [1.708, 4.01, 1.631],\n  'rotation': [-0.5443682117180475, 0.0, 0.0, 0.8388463804957943],\n  'prev': 'e25b9e7019814d53876ff2697df7a2de',\n  'next': '2c1a8ae13d76498c838a1fb733ff8700',\n  'num_lidar_pts': 30,\n  'num_radar_pts': 2,\n  'category_name': 'vehicle.car'}]"
     },
     "execution_count": 11,
     "metadata": {},
     "output_type": "execute_result"
    }
   ],
   "source": [
    "helper.get_future_for_agent(instance_token, sample_token, seconds=3, in_agent_frame=True, just_xy=False)"
   ],
   "metadata": {
    "collapsed": false,
    "ExecuteTime": {
     "end_time": "2024-04-29T13:37:09.221817Z",
     "start_time": "2024-04-29T13:37:09.218174Z"
    }
   },
   "id": "315a02b5075a7bc4",
   "execution_count": 11
  },
  {
   "cell_type": "markdown",
   "source": [
    "to get the entire sample annots"
   ],
   "metadata": {
    "collapsed": false
   },
   "id": "7bc468e3c2ef402"
  },
  {
   "cell_type": "code",
   "outputs": [
    {
     "data": {
      "text/plain": "78"
     },
     "execution_count": 12,
     "metadata": {},
     "output_type": "execute_result"
    }
   ],
   "source": [
    "sample = helper.get_annotations_for_sample(sample_token)\n",
    "len(sample) # single time stamp"
   ],
   "metadata": {
    "collapsed": false,
    "ExecuteTime": {
     "end_time": "2024-04-29T13:47:24.396671Z",
     "start_time": "2024-04-29T13:47:24.392203Z"
    }
   },
   "id": "2db8cacaa3644c97",
   "execution_count": 12
  },
  {
   "cell_type": "markdown",
   "source": [],
   "metadata": {
    "collapsed": false
   },
   "id": "d6b54af66438ae0b"
  },
  {
   "cell_type": "code",
   "outputs": [
    {
     "data": {
      "text/plain": "{'token': '7987617983634b119e383d8a29607fd7',\n 'sample_token': '39586f9d59004284a7114a68825e8eec',\n 'instance_token': '6dd2cbf4c24b4caeb625035869bca7b5',\n 'visibility_token': '1',\n 'attribute_tokens': ['4d8821270b4a47e3a8a300cbec48188e'],\n 'translation': [373.256, 1130.419, 0.81],\n 'size': [0.621, 0.669, 1.642],\n 'rotation': [0.9831098797903927, 0.0, 0.0, -0.18301629506281616],\n 'prev': 'ef63a697930c4b20a6b9791f423351da',\n 'next': '9acb7dfed3454f72b2874dda3bdacc48',\n 'num_lidar_pts': 1,\n 'num_radar_pts': 0,\n 'category_name': 'human.pedestrian.adult'}"
     },
     "execution_count": 15,
     "metadata": {},
     "output_type": "execute_result"
    }
   ],
   "source": [
    "sample[0]"
   ],
   "metadata": {
    "collapsed": false,
    "ExecuteTime": {
     "end_time": "2024-04-29T13:49:37.793169Z",
     "start_time": "2024-04-29T13:49:37.790554Z"
    }
   },
   "id": "708f17acc3140957",
   "execution_count": 15
  },
  {
   "cell_type": "markdown",
   "source": [
    "to get trajectories for each agent in the sample"
   ],
   "metadata": {
    "collapsed": false
   },
   "id": "a81cc0f0153c47d3"
  },
  {
   "cell_type": "code",
   "outputs": [
    {
     "data": {
      "text/plain": "78"
     },
     "execution_count": 22,
     "metadata": {},
     "output_type": "execute_result"
    }
   ],
   "source": [
    "future_samples = helper.get_future_for_sample(sample_token, seconds=2, in_agent_frame=False)\n",
    "len(future_samples)"
   ],
   "metadata": {
    "collapsed": false,
    "ExecuteTime": {
     "end_time": "2024-04-29T13:56:30.658768Z",
     "start_time": "2024-04-29T13:56:30.655196Z"
    }
   },
   "id": "4d819796257179e8",
   "execution_count": 22
  },
  {
   "cell_type": "code",
   "outputs": [
    {
     "data": {
      "text/plain": "array([[ 392.836, 1148.208],\n       [ 392.641, 1147.242],\n       [ 392.081, 1145.988],\n       [ 391.347, 1144.208]])"
     },
     "execution_count": 21,
     "metadata": {},
     "output_type": "execute_result"
    }
   ],
   "source": [
    "future_samples[instance_token]"
   ],
   "metadata": {
    "collapsed": false,
    "ExecuteTime": {
     "end_time": "2024-04-29T13:56:17.820421Z",
     "start_time": "2024-04-29T13:56:17.816943Z"
    }
   },
   "id": "182d853e72f88ae5",
   "execution_count": 21
  },
  {
   "cell_type": "markdown",
   "source": [
    "to get linear and angular velocities :"
   ],
   "metadata": {
    "collapsed": false
   },
   "id": "cfbde73f02a1c9b1"
  },
  {
   "cell_type": "code",
   "outputs": [
    {
     "name": "stdout",
     "output_type": "stream",
     "text": [
      "0.0\n",
      "1.7065235955558908\n"
     ]
    }
   ],
   "source": [
    "print(helper.get_heading_change_rate_for_agent(instance_token, sample_token))\n",
    "print(helper.get_velocity_for_agent(instance_token, sample_token))"
   ],
   "metadata": {
    "collapsed": false,
    "ExecuteTime": {
     "end_time": "2024-04-29T13:58:53.347704Z",
     "start_time": "2024-04-29T13:58:53.344445Z"
    }
   },
   "id": "d616de3c34fec9a7",
   "execution_count": 24
  },
  {
   "cell_type": "markdown",
   "source": [
    "## Map API"
   ],
   "metadata": {
    "collapsed": false
   },
   "id": "e5563e83bd9a497"
  },
  {
   "cell_type": "code",
   "outputs": [],
   "source": [
    "from nuscenes.map_expansion.map_api import NuScenesMap\n",
    "nusc_map = NuScenesMap(map_name=\"singapore-onenorth\", dataroot=DATAROOT)"
   ],
   "metadata": {
    "collapsed": false,
    "ExecuteTime": {
     "end_time": "2024-04-29T14:21:14.442482Z",
     "start_time": "2024-04-29T14:21:14.296135Z"
    }
   },
   "id": "d001a4f7331f9c88",
   "execution_count": 25
  },
  {
   "cell_type": "markdown",
   "source": [
    "to get the closest lane to a location, use the `get_closest_lane` method. use `get_arcline_path` to see the internal data of the lane, for connectivities, use `get_outgoing/ingoing_lane` method "
   ],
   "metadata": {
    "collapsed": false
   },
   "id": "d4af8694637bad22"
  },
  {
   "cell_type": "code",
   "outputs": [
    {
     "data": {
      "text/plain": "'5933500a-f0f2-4d69-9bbc-83b875e4a73e'"
     },
     "execution_count": 27,
     "metadata": {},
     "output_type": "execute_result"
    }
   ],
   "source": [
    "x, y, yaw = 395, 1095, 0\n",
    "closest_lane = nusc_map.get_closest_lane(x, y, radius=2)\n",
    "closest_lane"
   ],
   "metadata": {
    "collapsed": false,
    "ExecuteTime": {
     "end_time": "2024-04-29T14:25:34.558668Z",
     "start_time": "2024-04-29T14:25:34.498337Z"
    }
   },
   "id": "cf88f838bf84a392",
   "execution_count": 27
  },
  {
   "cell_type": "code",
   "outputs": [
    {
     "name": "stdout",
     "output_type": "stream",
     "text": [
      "[{'start_pose': [421.2419602954602, 1087.9127960414617, 2.739593514975998], 'end_pose': [391.7142849867393, 1100.464077182952, 2.7365754617298705], 'shape': 'LSR', 'radius': 999.999, 'segment_length': [0.23651121617864976, 28.593481378991886, 3.254561444252876]}]\n"
     ]
    }
   ],
   "source": [
    "arcline_path = nusc_map.get_arcline_path(closest_lane)\n",
    "print(arcline_path)"
   ],
   "metadata": {
    "collapsed": false,
    "ExecuteTime": {
     "end_time": "2024-04-29T14:36:23.163645Z",
     "start_time": "2024-04-29T14:36:23.161228Z"
    }
   },
   "id": "dce88b3e7af0affa",
   "execution_count": 34
  },
  {
   "cell_type": "code",
   "outputs": [
    {
     "data": {
      "text/plain": "34"
     },
     "execution_count": 36,
     "metadata": {},
     "output_type": "execute_result"
    }
   ],
   "source": [
    "from nuscenes.map_expansion import arcline_path_utils\n",
    "poses = arcline_path_utils.discretize_lane(arcline_path, resolution_meters=1)\n",
    "len(poses)"
   ],
   "metadata": {
    "collapsed": false,
    "ExecuteTime": {
     "end_time": "2024-04-29T14:38:44.111791Z",
     "start_time": "2024-04-29T14:38:44.107351Z"
    }
   },
   "id": "3b002dd175a7bafd",
   "execution_count": 36
  },
  {
   "cell_type": "markdown",
   "source": [
    "to get the closest point of a lane to a given point, as well as the longitudinal distance of the queried point:"
   ],
   "metadata": {
    "collapsed": false
   },
   "id": "dbf2a3d2aeb7426f"
  },
  {
   "cell_type": "code",
   "outputs": [
    {
     "name": "stdout",
     "output_type": "stream",
     "text": [
      "395 1095 0 (396.25524909914367, 1098.5289922434013, 2.739830026428688)\n"
     ]
    }
   ],
   "source": [
    "closest_point_on_lane, distance_along_lane1 = arcline_path_utils.project_pose_to_lane((x,y,yaw), arcline_path)\n",
    "print(x,y,yaw, closest_point_on_lane)"
   ],
   "metadata": {
    "collapsed": false,
    "ExecuteTime": {
     "end_time": "2024-04-29T14:41:24.299111Z",
     "start_time": "2024-04-29T14:41:24.296232Z"
    }
   },
   "id": "be170c7b4e46ac3c",
   "execution_count": 40
  },
  {
   "cell_type": "code",
   "outputs": [
    {
     "name": "stdout",
     "output_type": "stream",
     "text": [
      "(421.2419602954602, 1087.9127960414617, 2.739593514975998)\n"
     ]
    }
   ],
   "source": [
    "closest_point_on_lane, distance_along_lane2 = arcline_path_utils.project_pose_to_lane((x+200,y,yaw), arcline_path)\n",
    "print(closest_point_on_lane)"
   ],
   "metadata": {
    "collapsed": false,
    "ExecuteTime": {
     "end_time": "2024-04-29T14:41:21.146788Z",
     "start_time": "2024-04-29T14:41:21.144390Z"
    }
   },
   "id": "d20da0c81f67623b",
   "execution_count": 39
  },
  {
   "cell_type": "code",
   "outputs": [
    {
     "data": {
      "text/plain": "(27.5, 0.0)"
     },
     "execution_count": 41,
     "metadata": {},
     "output_type": "execute_result"
    }
   ],
   "source": [
    "distance_along_lane1, distance_along_lane2"
   ],
   "metadata": {
    "collapsed": false,
    "ExecuteTime": {
     "end_time": "2024-04-29T14:41:34.463510Z",
     "start_time": "2024-04-29T14:41:34.461062Z"
    }
   },
   "id": "19ed2d444e84e044",
   "execution_count": 41
  },
  {
   "cell_type": "code",
   "outputs": [
    {
     "data": {
      "text/plain": "32.08455403942341"
     },
     "execution_count": 42,
     "metadata": {},
     "output_type": "execute_result"
    }
   ],
   "source": [
    "arcline_path_utils.length_of_lane(arcline_path)"
   ],
   "metadata": {
    "collapsed": false,
    "ExecuteTime": {
     "end_time": "2024-04-29T14:52:20.230023Z",
     "start_time": "2024-04-29T14:52:20.224096Z"
    }
   },
   "id": "2478b3d5ef04da27",
   "execution_count": 42
  },
  {
   "cell_type": "code",
   "outputs": [
    {
     "data": {
      "text/plain": "0"
     },
     "execution_count": 44,
     "metadata": {},
     "output_type": "execute_result"
    }
   ],
   "source": [
    "arcline_path_utils.get_curvature_at_distance_along_lane(distance_along_lane1, arcline_path)"
   ],
   "metadata": {
    "collapsed": false,
    "ExecuteTime": {
     "end_time": "2024-04-29T14:52:57.470871Z",
     "start_time": "2024-04-29T14:52:57.467887Z"
    }
   },
   "id": "3bbb939e6f904844",
   "execution_count": 44
  },
  {
   "cell_type": "markdown",
   "source": [
    "## Input Repr"
   ],
   "metadata": {
    "collapsed": false
   },
   "id": "d6eb1e61d9400600"
  },
  {
   "cell_type": "markdown",
   "source": [
    "We provide a module called input_representation that is meant to make it easy for you to define your own input representation. In short, you need to define your own StaticLayerRepresentation, AgentRepresentation, and Combinator.\n",
    "\n",
    "The StaticLayerRepresentation controls how the static map information is represented. The AgentRepresentation controls how the locations of the agents in the scene are represented. The Combinator controls how these two sources of information are combined into a single tensor."
   ],
   "metadata": {
    "collapsed": false
   },
   "id": "7e526bfdf7c3bcbf"
  },
  {
   "cell_type": "code",
   "outputs": [
    {
     "name": "stderr",
     "output_type": "stream",
     "text": [
      "/home/user/PycharmProjects/ViP3D/venv/lib/python3.8/site-packages/nuscenes/map_expansion/map_api.py:1823: ShapelyDeprecationWarning: Iteration over multi-part geometries is deprecated and will be removed in Shapely 2.0. Use the `geoms` property to access the constituent parts of a multi-part geometry.\n",
      "  exteriors = [int_coords(poly.exterior.coords) for poly in polygons]\n",
      "/home/user/PycharmProjects/ViP3D/venv/lib/python3.8/site-packages/nuscenes/map_expansion/map_api.py:1824: ShapelyDeprecationWarning: Iteration over multi-part geometries is deprecated and will be removed in Shapely 2.0. Use the `geoms` property to access the constituent parts of a multi-part geometry.\n",
      "  interiors = [int_coords(pi.coords) for poly in polygons for pi in poly.interiors]\n"
     ]
    },
    {
     "data": {
      "text/plain": "<matplotlib.image.AxesImage at 0x7f5ab1667820>"
     },
     "execution_count": 68,
     "metadata": {},
     "output_type": "execute_result"
    },
    {
     "data": {
      "text/plain": "<Figure size 640x480 with 1 Axes>",
      "image/png": "[encoded data removed]"
     },
     "metadata": {},
     "output_type": "display_data"
    }
   ],
   "source": [
    "import matplotlib.pyplot as plt\n",
    "%matplotlib inline\n",
    "\n",
    "from nuscenes.prediction.input_representation.static_layers import StaticLayerRasterizer\n",
    "from nuscenes.prediction.input_representation.agents import AgentBoxesWithFadedHistory\n",
    "from nuscenes.prediction.input_representation.interface import InputRepresentation\n",
    "from nuscenes.prediction.input_representation.combinators import Rasterizer\n",
    "\n",
    "static_layer_rasterizer = StaticLayerRasterizer(helper)\n",
    "agent_rasterizer = AgentBoxesWithFadedHistory(helper, seconds_of_history=6)\n",
    "mtp_input_representation = InputRepresentation(static_layer_rasterizer, agent_rasterizer, Rasterizer())\n",
    "\n",
    "instance_token_img, sample_token_img = 'bc38961ca0ac4b14ab90e547ba79fbb6', '7626dde27d604ac28a0240bdd54eba7a'\n",
    "anns = [ann for ann in nusc.sample_annotation if ann['instance_token'] == instance_token_img]\n",
    "img = mtp_input_representation.make_input_representation(instance_token_img, sample_token_img)\n",
    "\n",
    "plt.imshow(img)\n"
   ],
   "metadata": {
    "collapsed": false,
    "ExecuteTime": {
     "end_time": "2024-04-29T15:14:12.424325Z",
     "start_time": "2024-04-29T15:14:11.741607Z"
    }
   },
   "id": "a556fc8db16f891c",
   "execution_count": 68
  },
  {
   "cell_type": "code",
   "outputs": [
    {
     "data": {
      "text/plain": "(24, 'bc38961ca0ac4b14ab90e547ba79fbb6', '7626dde27d604ac28a0240bdd54eba7a')"
     },
     "execution_count": 69,
     "metadata": {},
     "output_type": "execute_result"
    }
   ],
   "source": [
    "len(anns), instance_token_img, sample_token_img"
   ],
   "metadata": {
    "collapsed": false,
    "ExecuteTime": {
     "end_time": "2024-04-29T15:14:19.601822Z",
     "start_time": "2024-04-29T15:14:19.598718Z"
    }
   },
   "id": "4ed7b71b90e565f0",
   "execution_count": 69
  },
  {
   "cell_type": "markdown",
   "source": [
    "## Model Implementations"
   ],
   "metadata": {
    "collapsed": false
   },
   "id": "f6ee25bf86e79ea2"
  },
  {
   "cell_type": "code",
   "outputs": [],
   "source": [
    "from nuscenes.prediction.models.backbone import ResNetBackbone\n",
    "from nuscenes.prediction.models.mtp import MTP\n",
    "from nuscenes.prediction.models.covernet import CoverNet\n",
    "import torch"
   ],
   "metadata": {
    "collapsed": false,
    "ExecuteTime": {
     "end_time": "2024-04-29T15:03:42.635870Z",
     "start_time": "2024-04-29T15:03:42.029694Z"
    }
   },
   "id": "2648de160ec59ef1",
   "execution_count": 48
  },
  {
   "cell_type": "code",
   "outputs": [],
   "source": [
    "backbone = ResNetBackbone('resnet50')\n",
    "mtp = MTP(backbone, num_modes=2)\n",
    "\n",
    "# Note that the value of num_modes depends on the size of the lattice used for CoverNet.\n",
    "covernet = CoverNet(backbone, num_modes=64)"
   ],
   "metadata": {
    "collapsed": false,
    "ExecuteTime": {
     "end_time": "2024-04-29T15:14:24.140185Z",
     "start_time": "2024-04-29T15:14:23.590287Z"
    }
   },
   "id": "2bbb0b2b61bcd00e",
   "execution_count": 70
  },
  {
   "cell_type": "code",
   "outputs": [],
   "source": [
    "agent_state_vector = torch.Tensor([[helper.get_velocity_for_agent(instance_token_img, sample_token_img),\n",
    "                                    helper.get_acceleration_for_agent(instance_token_img, sample_token_img),\n",
    "                                    helper.get_heading_change_rate_for_agent(instance_token_img, sample_token_img)]])\n",
    "img_tensor = torch.Tensor(img).permute(2,0,1).unsqueeze(0)"
   ],
   "metadata": {
    "collapsed": false,
    "ExecuteTime": {
     "end_time": "2024-04-29T15:14:42.251582Z",
     "start_time": "2024-04-29T15:14:42.248721Z"
    }
   },
   "id": "1b4199020a444f56",
   "execution_count": 75
  },
  {
   "cell_type": "code",
   "outputs": [
    {
     "data": {
      "text/plain": "tensor([[5.4546, 1.9441, 0.0000]])"
     },
     "execution_count": 76,
     "metadata": {},
     "output_type": "execute_result"
    }
   ],
   "source": [
    "agent_state_vector"
   ],
   "metadata": {
    "collapsed": false,
    "ExecuteTime": {
     "end_time": "2024-04-29T15:14:44.118140Z",
     "start_time": "2024-04-29T15:14:44.114579Z"
    }
   },
   "id": "aa18d4011d5883b3",
   "execution_count": 76
  },
  {
   "cell_type": "code",
   "outputs": [
    {
     "data": {
      "text/plain": "(torch.Size([1, 3, 500, 500]), torch.float32, torch.float64)"
     },
     "execution_count": 79,
     "metadata": {},
     "output_type": "execute_result"
    }
   ],
   "source": [
    "img_tensor.shape, img_tensor.dtype, img_tensor.to(torch.float64).dtype"
   ],
   "metadata": {
    "collapsed": false,
    "ExecuteTime": {
     "end_time": "2024-04-29T15:17:49.232456Z",
     "start_time": "2024-04-29T15:17:49.229432Z"
    }
   },
   "id": "8df41a470f115ba0",
   "execution_count": 79
  },
  {
   "cell_type": "code",
   "outputs": [
    {
     "data": {
      "text/plain": "tensor([[ 0.2921, -0.2405, -0.2363,  0.1879,  0.2890, -0.0369,  0.0410, -0.0804,\n         -0.3601, -0.1587,  0.0490,  0.1397, -0.1752, -0.3099,  0.2498, -0.0259,\n         -0.0081,  0.0675, -0.2515,  0.3279, -0.2256,  0.2331, -0.1647, -0.2377,\n         -0.0732,  0.5096,  0.0225, -0.2715,  0.2911, -0.0112, -0.0874,  0.2521,\n          0.0216, -0.1280, -0.0545,  0.1553,  0.0675, -0.0591, -0.0849,  0.0432,\n         -0.0612, -0.1999,  0.3725,  0.0020,  0.0864,  0.2507,  0.1254, -0.0755,\n          0.1861, -0.2860]], grad_fn=<CatBackward0>)"
     },
     "execution_count": 80,
     "metadata": {},
     "output_type": "execute_result"
    }
   ],
   "source": [
    "\n",
    "\n",
    "# Output has 50 entries.\n",
    "# The first 24 are x,y coordinates (in the agent frame) over the next 6 seconds at 2 Hz for the first mode.\n",
    "# The second 24 are the x,y coordinates for the second mode.\n",
    "# The last 2 are the logits of the mode probabilities\n",
    "mtp(img_tensor, agent_state_vector)"
   ],
   "metadata": {
    "collapsed": false,
    "ExecuteTime": {
     "end_time": "2024-04-29T15:21:58.637314Z",
     "start_time": "2024-04-29T15:21:58.465926Z"
    }
   },
   "id": "5104b277156b691b",
   "execution_count": 80
  },
  {
   "cell_type": "code",
   "outputs": [],
   "source": [
    "from nuscenes.prediction.models.physics import ConstantVelocityHeading, PhysicsOracle\n",
    "\n",
    "cv_model = ConstantVelocityHeading(sec_from_now=6, helper=helper)\n",
    "physics_oracle = PhysicsOracle(sec_from_now=6, helper=helper)"
   ],
   "metadata": {
    "collapsed": false,
    "ExecuteTime": {
     "end_time": "2024-04-29T15:23:31.252066Z",
     "start_time": "2024-04-29T15:23:31.244868Z"
    }
   },
   "id": "149eee7a03e74cdd",
   "execution_count": 81
  },
  {
   "cell_type": "code",
   "outputs": [
    {
     "data": {
      "text/plain": "Prediction(instance=bc38961ca0ac4b14ab90e547ba79fbb6, sample=7626dde27d604ac28a0240bdd54eba7a, prediction=[[[ 388.17909232 1136.96919062]\n  [ 387.06818463 1134.47838124]\n  [ 385.95727695 1131.98757186]\n  [ 384.84636926 1129.49676248]\n  [ 383.73546158 1127.0059531 ]\n  [ 382.6245539  1124.51514372]\n  [ 381.51364621 1122.02433435]\n  [ 380.40273853 1119.53352497]\n  [ 379.29183084 1117.04271559]\n  [ 378.18092316 1114.55190621]\n  [ 377.07001548 1112.06109683]\n  [ 375.95910779 1109.57028745]]], probabilities=[1])"
     },
     "execution_count": 82,
     "metadata": {},
     "output_type": "execute_result"
    }
   ],
   "source": [
    "cv_model(f\"{instance_token_img}_{sample_token_img}\")"
   ],
   "metadata": {
    "collapsed": false,
    "ExecuteTime": {
     "end_time": "2024-04-29T15:23:42.865094Z",
     "start_time": "2024-04-29T15:23:42.861349Z"
    }
   },
   "id": "c1bf45a6a17d2b9f",
   "execution_count": 82
  },
  {
   "cell_type": "code",
   "outputs": [
    {
     "data": {
      "text/plain": "Prediction(instance=bc38961ca0ac4b14ab90e547ba79fbb6, sample=7626dde27d604ac28a0240bdd54eba7a, prediction=[[[ 388.17909232 1136.96919062]\n  [ 387.06818463 1134.47838124]\n  [ 385.95727695 1131.98757186]\n  [ 384.84636926 1129.49676248]\n  [ 383.73546158 1127.0059531 ]\n  [ 382.6245539  1124.51514372]\n  [ 381.51364621 1122.02433435]\n  [ 380.40273853 1119.53352497]\n  [ 379.29183084 1117.04271559]\n  [ 378.18092316 1114.55190621]\n  [ 377.07001548 1112.06109683]\n  [ 375.95910779 1109.57028745]]], probabilities=[1])"
     },
     "execution_count": 83,
     "metadata": {},
     "output_type": "execute_result"
    }
   ],
   "source": [
    "physics_oracle(f\"{instance_token_img}_{sample_token_img}\")"
   ],
   "metadata": {
    "collapsed": false,
    "ExecuteTime": {
     "end_time": "2024-04-29T15:23:51.302483Z",
     "start_time": "2024-04-29T15:23:51.296201Z"
    }
   },
   "id": "a4fe09255b294c5b",
   "execution_count": 83
  },
  {
   "cell_type": "code",
   "outputs": [],
   "source": [],
   "metadata": {
    "collapsed": false
   },
   "id": "4ae0df9e7c856fab"
  }
 ],
 "metadata": {
  "kernelspec": {
   "display_name": "Python 3",
   "language": "python",
   "name": "python3"
  },
  "language_info": {
   "codemirror_mode": {
    "name": "ipython",
    "version": 2
   },
   "file_extension": ".py",
   "mimetype": "text/x-python",
   "name": "python",
   "nbconvert_exporter": "python",
   "pygments_lexer": "ipython2",
   "version": "2.7.6"
  }
 },
 "nbformat": 4,
 "nbformat_minor": 5
}
